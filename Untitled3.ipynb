{
 "cells": [
  {
   "cell_type": "code",
   "execution_count": 17,
   "id": "10a478f0-cffb-483a-a214-75f621d06d3b",
   "metadata": {},
   "outputs": [],
   "source": [
    "import pandas as pd\n",
    "df = pd.read_csv(\"C:\\\\Users\\\\user\\\\Downloads\\\\student_dataset.csv\")"
   ]
  },
  {
   "cell_type": "code",
   "execution_count": 23,
   "id": "f64de4c0-49ea-482b-ae42-7c7b16553354",
   "metadata": {},
   "outputs": [
    {
     "name": "stdout",
     "output_type": "stream",
     "text": [
      "   StudentID    Name  Gender           Course  Age  Marks Grade       City\n",
      "0       2001    Isha  Female     Data Science   27     82     F  Bangalore\n",
      "1       2002   Aarav  Female     Data Science   27     42     A  Hyderabad\n",
      "2       2003  Vivaan    Male  Web Development   24     98     B    Kolkata\n",
      "3       2004   Sanya  Female  Web Development   23     52     A  Hyderabad\n",
      "4       2005   Anaya  Female  Web Development   28     51     A  Hyderabad\n"
     ]
    }
   ],
   "source": [
    "print(df.head())  #top 5 entries will be shown "
   ]
  },
  {
   "cell_type": "code",
   "execution_count": 25,
   "id": "d85db862-6847-4db7-be3c-c5519f339ae6",
   "metadata": {},
   "outputs": [
    {
     "name": "stdout",
     "output_type": "stream",
     "text": [
      "     StudentID   Name  Gender           Course  Age  Marks Grade       City\n",
      "145       2146  Anaya    Male  Cloud Computing   19     44     B  Bangalore\n",
      "146       2147  Meera  Female          AI & ML   18     57     D  Hyderabad\n",
      "147       2148  Kabir  Female  Cloud Computing   21     92     F  Bangalore\n",
      "148       2149  Sanya  Female   Cyber Security   26     60     D      Delhi\n",
      "149       2150   Diya  Female          AI & ML   24     44     F      Delhi\n"
     ]
    }
   ],
   "source": [
    "print(df.tail()) #last 5 entries are shown"
   ]
  },
  {
   "cell_type": "code",
   "execution_count": 27,
   "id": "a9ca7781-2706-4fd0-98b0-0d8e3b1f4bd6",
   "metadata": {},
   "outputs": [
    {
     "name": "stdout",
     "output_type": "stream",
     "text": [
      "<class 'pandas.core.frame.DataFrame'>\n",
      "RangeIndex: 150 entries, 0 to 149\n",
      "Data columns (total 8 columns):\n",
      " #   Column     Non-Null Count  Dtype \n",
      "---  ------     --------------  ----- \n",
      " 0   StudentID  150 non-null    int64 \n",
      " 1   Name       150 non-null    object\n",
      " 2   Gender     150 non-null    object\n",
      " 3   Course     150 non-null    object\n",
      " 4   Age        150 non-null    int64 \n",
      " 5   Marks      150 non-null    int64 \n",
      " 6   Grade      150 non-null    object\n",
      " 7   City       150 non-null    object\n",
      "dtypes: int64(3), object(5)\n",
      "memory usage: 9.5+ KB\n",
      "None\n"
     ]
    }
   ],
   "source": [
    "print(df.info()) # gives you a summary of the DataFrame"
   ]
  },
  {
   "cell_type": "code",
   "execution_count": 35,
   "id": "686c08c7-85f9-42d5-9055-e59a724e555e",
   "metadata": {},
   "outputs": [
    {
     "name": "stdout",
     "output_type": "stream",
     "text": [
      "(150, 8)\n"
     ]
    }
   ],
   "source": [
    "print(df.shape) #dimension of table"
   ]
  },
  {
   "cell_type": "code",
   "execution_count": 53,
   "id": "c38e93f2-e6cd-4cca-a61b-30ead4f357c2",
   "metadata": {},
   "outputs": [],
   "source": [
    "df = df.drop('Age', axis=1) #table named age is deleted\n"
   ]
  },
  {
   "cell_type": "code",
   "execution_count": 55,
   "id": "f98be853-724e-4b7e-bbe9-3458c2ec1655",
   "metadata": {},
   "outputs": [
    {
     "name": "stdout",
     "output_type": "stream",
     "text": [
      "   StudentID    Name  Gender           Course  Marks Grade       City\n",
      "0       2001    Isha  Female     Data Science     82     F  Bangalore\n",
      "1       2002   Aarav  Female     Data Science     42     A  Hyderabad\n",
      "2       2003  Vivaan    Male  Web Development     98     B    Kolkata\n",
      "3       2004   Sanya  Female  Web Development     52     A  Hyderabad\n",
      "4       2005   Anaya  Female  Web Development     51     A  Hyderabad\n"
     ]
    }
   ],
   "source": [
    "print(df.head()) "
   ]
  },
  {
   "cell_type": "code",
   "execution_count": 65,
   "id": "f86f5898-bdf0-4091-906c-006e8c0ee89c",
   "metadata": {},
   "outputs": [
    {
     "name": "stdout",
     "output_type": "stream",
     "text": [
      "0      F\n",
      "1      A\n",
      "2      B\n",
      "3      A\n",
      "4      A\n",
      "      ..\n",
      "145    B\n",
      "146    D\n",
      "147    F\n",
      "148    D\n",
      "149    F\n",
      "Name: Grade, Length: 150, dtype: object\n"
     ]
    }
   ],
   "source": [
    "print(df['Grade']) #perticular table is shown"
   ]
  },
  {
   "cell_type": "code",
   "execution_count": 67,
   "id": "21c90160-225c-4bc0-abdc-e36d891b64d5",
   "metadata": {},
   "outputs": [
    {
     "data": {
      "text/html": [
       "<div>\n",
       "<style scoped>\n",
       "    .dataframe tbody tr th:only-of-type {\n",
       "        vertical-align: middle;\n",
       "    }\n",
       "\n",
       "    .dataframe tbody tr th {\n",
       "        vertical-align: top;\n",
       "    }\n",
       "\n",
       "    .dataframe thead th {\n",
       "        text-align: right;\n",
       "    }\n",
       "</style>\n",
       "<table border=\"1\" class=\"dataframe\">\n",
       "  <thead>\n",
       "    <tr style=\"text-align: right;\">\n",
       "      <th></th>\n",
       "      <th>StudentID</th>\n",
       "      <th>Name</th>\n",
       "      <th>Gender</th>\n",
       "      <th>Course</th>\n",
       "      <th>Marks</th>\n",
       "      <th>Grade</th>\n",
       "      <th>City</th>\n",
       "    </tr>\n",
       "  </thead>\n",
       "  <tbody>\n",
       "    <tr>\n",
       "      <th>0</th>\n",
       "      <td>2001</td>\n",
       "      <td>Isha</td>\n",
       "      <td>Female</td>\n",
       "      <td>Data Science</td>\n",
       "      <td>82</td>\n",
       "      <td>F</td>\n",
       "      <td>Bangalore</td>\n",
       "    </tr>\n",
       "    <tr>\n",
       "      <th>2</th>\n",
       "      <td>2003</td>\n",
       "      <td>Vivaan</td>\n",
       "      <td>Male</td>\n",
       "      <td>Web Development</td>\n",
       "      <td>98</td>\n",
       "      <td>B</td>\n",
       "      <td>Kolkata</td>\n",
       "    </tr>\n",
       "    <tr>\n",
       "      <th>3</th>\n",
       "      <td>2004</td>\n",
       "      <td>Sanya</td>\n",
       "      <td>Female</td>\n",
       "      <td>Web Development</td>\n",
       "      <td>52</td>\n",
       "      <td>A</td>\n",
       "      <td>Hyderabad</td>\n",
       "    </tr>\n",
       "    <tr>\n",
       "      <th>4</th>\n",
       "      <td>2005</td>\n",
       "      <td>Anaya</td>\n",
       "      <td>Female</td>\n",
       "      <td>Web Development</td>\n",
       "      <td>51</td>\n",
       "      <td>A</td>\n",
       "      <td>Hyderabad</td>\n",
       "    </tr>\n",
       "    <tr>\n",
       "      <th>5</th>\n",
       "      <td>2006</td>\n",
       "      <td>Aarav</td>\n",
       "      <td>Male</td>\n",
       "      <td>Web Development</td>\n",
       "      <td>96</td>\n",
       "      <td>D</td>\n",
       "      <td>Mumbai</td>\n",
       "    </tr>\n",
       "    <tr>\n",
       "      <th>...</th>\n",
       "      <td>...</td>\n",
       "      <td>...</td>\n",
       "      <td>...</td>\n",
       "      <td>...</td>\n",
       "      <td>...</td>\n",
       "      <td>...</td>\n",
       "      <td>...</td>\n",
       "    </tr>\n",
       "    <tr>\n",
       "      <th>143</th>\n",
       "      <td>2144</td>\n",
       "      <td>Sanya</td>\n",
       "      <td>Female</td>\n",
       "      <td>Web Development</td>\n",
       "      <td>59</td>\n",
       "      <td>D</td>\n",
       "      <td>Kolkata</td>\n",
       "    </tr>\n",
       "    <tr>\n",
       "      <th>144</th>\n",
       "      <td>2145</td>\n",
       "      <td>Anaya</td>\n",
       "      <td>Female</td>\n",
       "      <td>Cloud Computing</td>\n",
       "      <td>65</td>\n",
       "      <td>D</td>\n",
       "      <td>Hyderabad</td>\n",
       "    </tr>\n",
       "    <tr>\n",
       "      <th>146</th>\n",
       "      <td>2147</td>\n",
       "      <td>Meera</td>\n",
       "      <td>Female</td>\n",
       "      <td>AI &amp; ML</td>\n",
       "      <td>57</td>\n",
       "      <td>D</td>\n",
       "      <td>Hyderabad</td>\n",
       "    </tr>\n",
       "    <tr>\n",
       "      <th>147</th>\n",
       "      <td>2148</td>\n",
       "      <td>Kabir</td>\n",
       "      <td>Female</td>\n",
       "      <td>Cloud Computing</td>\n",
       "      <td>92</td>\n",
       "      <td>F</td>\n",
       "      <td>Bangalore</td>\n",
       "    </tr>\n",
       "    <tr>\n",
       "      <th>148</th>\n",
       "      <td>2149</td>\n",
       "      <td>Sanya</td>\n",
       "      <td>Female</td>\n",
       "      <td>Cyber Security</td>\n",
       "      <td>60</td>\n",
       "      <td>D</td>\n",
       "      <td>Delhi</td>\n",
       "    </tr>\n",
       "  </tbody>\n",
       "</table>\n",
       "<p>122 rows × 7 columns</p>\n",
       "</div>"
      ],
      "text/plain": [
       "     StudentID    Name  Gender           Course  Marks Grade       City\n",
       "0         2001    Isha  Female     Data Science     82     F  Bangalore\n",
       "2         2003  Vivaan    Male  Web Development     98     B    Kolkata\n",
       "3         2004   Sanya  Female  Web Development     52     A  Hyderabad\n",
       "4         2005   Anaya  Female  Web Development     51     A  Hyderabad\n",
       "5         2006   Aarav    Male  Web Development     96     D     Mumbai\n",
       "..         ...     ...     ...              ...    ...   ...        ...\n",
       "143       2144   Sanya  Female  Web Development     59     D    Kolkata\n",
       "144       2145   Anaya  Female  Cloud Computing     65     D  Hyderabad\n",
       "146       2147   Meera  Female          AI & ML     57     D  Hyderabad\n",
       "147       2148   Kabir  Female  Cloud Computing     92     F  Bangalore\n",
       "148       2149   Sanya  Female   Cyber Security     60     D      Delhi\n",
       "\n",
       "[122 rows x 7 columns]"
      ]
     },
     "execution_count": 67,
     "metadata": {},
     "output_type": "execute_result"
    }
   ],
   "source": [
    "df[df['Marks'] > 50] #marks greater tha 50 is shown"
   ]
  },
  {
   "cell_type": "code",
   "execution_count": 69,
   "id": "c70973ee-0ebc-42c9-b4c3-47b423199bbd",
   "metadata": {},
   "outputs": [
    {
     "name": "stdout",
     "output_type": "stream",
     "text": [
      "     StudentID   Name  Gender  Course  Marks  Grade   City\n",
      "0        False  False   False   False  False  False  False\n",
      "1        False  False   False   False  False  False  False\n",
      "2        False  False   False   False  False  False  False\n",
      "3        False  False   False   False  False  False  False\n",
      "4        False  False   False   False  False  False  False\n",
      "..         ...    ...     ...     ...    ...    ...    ...\n",
      "145      False  False   False   False  False  False  False\n",
      "146      False  False   False   False  False  False  False\n",
      "147      False  False   False   False  False  False  False\n",
      "148      False  False   False   False  False  False  False\n",
      "149      False  False   False   False  False  False  False\n",
      "\n",
      "[150 rows x 7 columns]\n"
     ]
    }
   ],
   "source": [
    "print(df.isnull()) #returns the table with null value if any"
   ]
  },
  {
   "cell_type": "code",
   "execution_count": 71,
   "id": "c1a6601b-3c3f-415f-8a77-50116fb840ae",
   "metadata": {},
   "outputs": [
    {
     "data": {
      "text/html": [
       "<div>\n",
       "<style scoped>\n",
       "    .dataframe tbody tr th:only-of-type {\n",
       "        vertical-align: middle;\n",
       "    }\n",
       "\n",
       "    .dataframe tbody tr th {\n",
       "        vertical-align: top;\n",
       "    }\n",
       "\n",
       "    .dataframe thead th {\n",
       "        text-align: right;\n",
       "    }\n",
       "</style>\n",
       "<table border=\"1\" class=\"dataframe\">\n",
       "  <thead>\n",
       "    <tr style=\"text-align: right;\">\n",
       "      <th></th>\n",
       "      <th>StudentID</th>\n",
       "      <th>Name</th>\n",
       "      <th>Gender</th>\n",
       "      <th>Course</th>\n",
       "      <th>Marks</th>\n",
       "      <th>Grade</th>\n",
       "      <th>City</th>\n",
       "    </tr>\n",
       "  </thead>\n",
       "  <tbody>\n",
       "  </tbody>\n",
       "</table>\n",
       "</div>"
      ],
      "text/plain": [
       "Empty DataFrame\n",
       "Columns: [StudentID, Name, Gender, Course, Marks, Grade, City]\n",
       "Index: []"
      ]
     },
     "execution_count": 71,
     "metadata": {},
     "output_type": "execute_result"
    }
   ],
   "source": [
    "df[df.isnull().any(axis=1)]"
   ]
  },
  {
   "cell_type": "code",
   "execution_count": 73,
   "id": "d40882e5-7df9-45b8-bf9e-0c62aa2ab2ed",
   "metadata": {},
   "outputs": [
    {
     "name": "stdout",
     "output_type": "stream",
     "text": [
      "StudentID    0\n",
      "Name         0\n",
      "Gender       0\n",
      "Course       0\n",
      "Marks        0\n",
      "Grade        0\n",
      "City         0\n",
      "dtype: int64\n"
     ]
    }
   ],
   "source": [
    "print(df.isnull().sum()) #number of null value is shown (if any)"
   ]
  },
  {
   "cell_type": "code",
   "execution_count": 75,
   "id": "29089c6d-f0fe-4e6b-af64-6e77114cc98d",
   "metadata": {},
   "outputs": [],
   "source": [
    "df = df.fillna(0)"
   ]
  },
  {
   "cell_type": "code",
   "execution_count": 77,
   "id": "3b81d587-d9cf-41c3-aba4-5b6e7001fc71",
   "metadata": {},
   "outputs": [
    {
     "name": "stdout",
     "output_type": "stream",
     "text": [
      "   StudentID    Name  Gender           Course  Marks Grade       City\n",
      "0       2001    Isha  Female     Data Science     82     F  Bangalore\n",
      "1       2002   Aarav  Female     Data Science     42     A  Hyderabad\n",
      "2       2003  Vivaan    Male  Web Development     98     B    Kolkata\n",
      "3       2004   Sanya  Female  Web Development     52     A  Hyderabad\n",
      "4       2005   Anaya  Female  Web Development     51     A  Hyderabad\n"
     ]
    }
   ],
   "source": [
    "print(df.head()) "
   ]
  },
  {
   "cell_type": "code",
   "execution_count": 79,
   "id": "d0346cba-17f4-4f37-be37-85ffda35ee53",
   "metadata": {},
   "outputs": [],
   "source": [
    "df = df.sort_values('City') #student with same city is display"
   ]
  },
  {
   "cell_type": "code",
   "execution_count": 81,
   "id": "04ef7d69-3ac9-437e-8de9-71b3ddf09e49",
   "metadata": {},
   "outputs": [
    {
     "name": "stdout",
     "output_type": "stream",
     "text": [
      "    StudentID    Name  Gender           Course  Marks Grade       City\n",
      "0        2001    Isha  Female     Data Science     82     F  Bangalore\n",
      "37       2038   Anaya    Male  Web Development     59     C  Bangalore\n",
      "44       2045  Vivaan  Female          AI & ML     60     D  Bangalore\n",
      "48       2049    Isha    Male  Web Development     57     A  Bangalore\n",
      "49       2050    Isha    Male  Web Development     94     D  Bangalore\n"
     ]
    }
   ],
   "source": [
    "print(df.head()) "
   ]
  },
  {
   "cell_type": "code",
   "execution_count": 85,
   "id": "f73b2918-c076-439a-a788-93e807373b79",
   "metadata": {},
   "outputs": [
    {
     "ename": "NameError",
     "evalue": "name 'Hyderabad' is not defined",
     "output_type": "error",
     "traceback": [
      "\u001b[1;31m---------------------------------------------------------------------------\u001b[0m",
      "\u001b[1;31mNameError\u001b[0m                                 Traceback (most recent call last)",
      "Cell \u001b[1;32mIn[85], line 1\u001b[0m\n\u001b[1;32m----> 1\u001b[0m df \u001b[38;5;241m=\u001b[39m df[df\u001b[38;5;241m.\u001b[39msort_values(\u001b[38;5;124m'\u001b[39m\u001b[38;5;124mCity\u001b[39m\u001b[38;5;124m'\u001b[39m)\u001b[38;5;241m==\u001b[39m Hyderabad ]\n",
      "\u001b[1;31mNameError\u001b[0m: name 'Hyderabad' is not defined"
     ]
    }
   ],
   "source": [
    "df = df[df.sort_values('City')== Hyderabad ]"
   ]
  },
  {
   "cell_type": "code",
   "execution_count": null,
   "id": "3333564e-2508-405e-ae69-4a4baa2907de",
   "metadata": {},
   "outputs": [],
   "source": []
  }
 ],
 "metadata": {
  "kernelspec": {
   "display_name": "Python [conda env:base] *",
   "language": "python",
   "name": "conda-base-py"
  },
  "language_info": {
   "codemirror_mode": {
    "name": "ipython",
    "version": 3
   },
   "file_extension": ".py",
   "mimetype": "text/x-python",
   "name": "python",
   "nbconvert_exporter": "python",
   "pygments_lexer": "ipython3",
   "version": "3.12.7"
  }
 },
 "nbformat": 4,
 "nbformat_minor": 5
}

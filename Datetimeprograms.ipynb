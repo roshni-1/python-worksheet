{
 "cells": [
  {
   "cell_type": "markdown",
   "id": "5f198252-be85-47e6-af4b-e6d768856141",
   "metadata": {},
   "source": [
    "# Date & Time Programs Without Using Any Libraries "
   ]
  },
  {
   "cell_type": "markdown",
   "id": "bd6dcf68-d4b3-4d42-a010-d1ceffafe7d5",
   "metadata": {},
   "source": [
    "## 1. Write a function to detect 13th Friday. The function can accept two parameters, and both will be numbers. The first parameter will be the number indicating the month, and the second will be the year in four digits. Your function should parse the parameters, and it must return True when the month contains a Friday with the 13th, else return False"
   ]
  },
  {
   "cell_type": "code",
   "execution_count": 2,
   "id": "12cd229f-ce4d-4da5-b054-65e0b9eb9857",
   "metadata": {},
   "outputs": [
    {
     "name": "stdout",
     "output_type": "stream",
     "text": [
      "False\n"
     ]
    }
   ],
   "source": [
    "def friday_13(month, year):\n",
    "    day = 13 # as our program checks the day is 13th friday\n",
    "\n",
    "    # Zeller's Congruence formula for Gregorian calendar\n",
    "    if month < 3: \n",
    "        \"\"\"as per zeller's congruence the staring month 3 is march and jan and feb are considerd 13 & 14 month of the \n",
    "        previous year. hence we are adding the months so months += 12\n",
    "        in the previous year and decrementing the year by 1\"\"\"\n",
    "        \n",
    "        month += 12\n",
    "        year -= 1\n",
    "    \"\"\"\n",
    "    defining the parameters for zeller's congruence formula\n",
    "    \"\"\"\n",
    "    q = day\n",
    "    m = month\n",
    "    K = year % 100\n",
    "    J = year // 100\n",
    "\n",
    "    # using the zeller's congruence formula \n",
    "    h = (q + 13*(m + 1)//5 + K + K//4 + J//4 + 5*J) % 7\n",
    "\n",
    "    # returning the day (starts from 0 - sat, 1 - sun, 2-mon so on)\n",
    "    return h == 6\n",
    "\n",
    "print(friday_13(7, 2025))  \n"
   ]
  },
  {
   "cell_type": "markdown",
   "id": "9e4bc334-0169-4470-995b-f69f007502cc",
   "metadata": {},
   "source": [
    "## 2. Write a function that takes two dates (day, month, year) and calculates the number of days between them without using datetime\n",
    "\n"
   ]
  },
  {
   "cell_type": "code",
   "execution_count": 1,
   "id": "ef83f3ca-356c-4150-8b8d-fc83f9fbf61f",
   "metadata": {},
   "outputs": [
    {
     "name": "stdout",
     "output_type": "stream",
     "text": [
      "9862\n"
     ]
    }
   ],
   "source": [
    "\"\"\" Function to check if a year is a leap year, leap year happens every 4 years, except for years that are divisible by 100 but not divisible by 400 \"\"\"\n",
    "def leap_year(year):\n",
    "    return (year % 4 == 0 and year % 100 != 0) or (year % 400 == 0)\n",
    "\n",
    "# Using a list which stores the number of days in each month for a normal year, not leap year\n",
    "monthdays = [31, 28, 31, 30, 31, 30, 31, 31, 30, 31, 30, 31]\n",
    "\n",
    "# Function to calculate total number of days from year 0 to a given date, it also helps in converting any date into a number of days\n",
    "def days_from_start(day, month, year):\n",
    "    days = year * 365  # Start by adding 365 days for each year\n",
    "\n",
    "    # adding one extra day for every leap year from year 0 to previous year\n",
    "    for y in range(0, year):\n",
    "        if leap_year(y):\n",
    "            days += 1\n",
    "\n",
    "    # adding days for months passed in current year\n",
    "    for m in range(1, month):\n",
    "        days += monthdays[m - 1]  # Adding days of month\n",
    "\n",
    "        # adding one more day for feb if it's leap year\n",
    "        if m == 2 and leap_year(year):\n",
    "            days += 1\n",
    "\n",
    "    # adding days passed in current month\n",
    "    days += day\n",
    "\n",
    "    return days\n",
    "\n",
    "\"\"\"function to calculate the number of days between two dates \n",
    "It works by converting both dates to total days from year 0 Then it returns the absolute difference between them\"\"\"\n",
    "def differencedays(day1, month1, year1, day2, month2, year2):\n",
    "    total1 = days_from_start(day1, month1, year1)  # Converting first date to total days\n",
    "    total2 = days_from_start(day2, month2, year2)  # Converting second date to total days\n",
    "\n",
    "    return abs(total2 - total1)  # Returning the difference in days using abs for avoiding negative results\n",
    "\n",
    "\n",
    "print(differencedays(20, 6, 1998, 20, 6, 2025))  \n"
   ]
  },
  {
   "cell_type": "markdown",
   "id": "4ddbd257-1263-441f-bbdc-8dcaeb61e196",
   "metadata": {},
   "source": [
    "## 3. You are given a date in the form of three integers: day, month, and year. Your task is to determine the day of the week for the given date."
   ]
  },
  {
   "cell_type": "code",
   "execution_count": 3,
   "id": "cd897da0-2c99-43ca-b69f-88642236efc3",
   "metadata": {},
   "outputs": [
    {
     "name": "stdout",
     "output_type": "stream",
     "text": [
      "Wednesday\n"
     ]
    }
   ],
   "source": [
    "\n",
    "def day_of_week(day, month, year):\n",
    "    \n",
    "    # If month is January or February,it is the 13th or 14th month respectively of the previous year\n",
    "    if month < 3:\n",
    "        month += 12\n",
    "        year -= 1\n",
    "\n",
    "    q = day          # Day of the month\n",
    "    m = month        # Month (starts with 3- march, 4- April, 13- Jan 14-Feb)\n",
    "    K = year % 100   # Last two digits of year\n",
    "    J = year // 100  # First two digits of year\n",
    "\n",
    "    \n",
    "    h = (q + 13*(m + 1)//5 + K + K//4 + J//4 + 5*J) % 7 # Using zeller's formula\n",
    "\n",
    "    \"\"\" Zeller's formula returns the number of day\n",
    "    0 = Sat, 1 = Sun, ..., 6 = Fri, mapping it to a list of names\"\"\"\n",
    "    \n",
    "    day_names = [\"Saturday\", \"Sunday\", \"Monday\", \"Tuesday\", \"Wednesday\", \"Thursday\", \"Friday\"]\n",
    "\n",
    "    return day_names[h]\n",
    "\n",
    "\n",
    "print(day_of_week(9, 7, 2025))  \n"
   ]
  },
  {
   "cell_type": "markdown",
   "id": "e6be4919-ddc3-4c4a-b1d5-7bfd1821b31f",
   "metadata": {},
   "source": [
    "## 4.You are given a valid date in the format: day, month, and year, along with an integer N representing a number of days to add. Your task is to compute the new date after adding N days to the given date."
   ]
  },
  {
   "cell_type": "code",
   "execution_count": 4,
   "id": "af28266a-e090-4430-83a5-0c3cc2f6dd4d",
   "metadata": {},
   "outputs": [
    {
     "name": "stdout",
     "output_type": "stream",
     "text": [
      "July 9, 2025 + 30 days = (8, 8, 2025)\n"
     ]
    }
   ],
   "source": [
    "\n",
    "def is_leap(year):\n",
    "    \"\"\"Checking if year is a leap year\"\"\"\n",
    "    if year % 4 != 0:\n",
    "        return False\n",
    "    elif year % 100 != 0:\n",
    "        return True\n",
    "    else:\n",
    "        return year % 400 == 0\n",
    "\n",
    "def month_days(month, year):\n",
    "    \"\"\"Returning number of days in a month\"\"\"\n",
    "    if month == 2:\n",
    "        return 29 if is_leap(year) else 28\n",
    "    if month in [4, 6, 9, 11]:\n",
    "        return 30\n",
    "    return 31\n",
    "\n",
    "def add_days(day, month, year, days_to_add):\n",
    "    \"\"\"Adding days to date & returning new date\"\"\"\n",
    "    while days_to_add > 0:\n",
    "        days_in_current_month = month_days(month, year)\n",
    "        days_remaining = days_in_current_month - day\n",
    "        \n",
    "        if days_to_add <= days_remaining:\n",
    "            day += days_to_add\n",
    "            break\n",
    "        else:\n",
    "            days_to_add -= days_remaining + 1\n",
    "            day = 1\n",
    "            month += 1\n",
    "            if month > 12:\n",
    "                month = 1\n",
    "                year += 1\n",
    "    \n",
    "    return day, month, year\n",
    "\n",
    "print(\"July 9, 2025 + 30 days =\", add_days(9, 7, 2025, 30))  \n"
   ]
  },
  {
   "cell_type": "markdown",
   "id": "614420dd-c37d-4c24-bfb9-766ff354c6e2",
   "metadata": {},
   "source": [
    "## 5. Write a function that counts how many leap years exist between two given years, the years are inclusive.\n",
    "\n"
   ]
  },
  {
   "cell_type": "code",
   "execution_count": 5,
   "id": "243013ae-04b5-42dc-b112-8f7eea9b8af0",
   "metadata": {},
   "outputs": [
    {
     "name": "stdout",
     "output_type": "stream",
     "text": [
      "Leap years between 2000-2025: 7\n"
     ]
    }
   ],
   "source": [
    "def count_leap_years(start_year, end_year):\n",
    "    \"\"\"Counting how many leap years occur between two years\"\"\"\n",
    "\n",
    "    leap_count = 0 # Initializing leap year counter\n",
    "    \n",
    "    # Checking each year in the given range\n",
    "    for year in range(start_year, end_year + 1):\n",
    "        \"\"\"A year is a leap year if: It's divisible by 4 AND not divisible by 100, OR\n",
    "        It's divisible by 400 \"\"\"\n",
    "        if (year % 4 == 0 and year % 100 != 0) or (year % 400 == 0):\n",
    "            leap_count += 1  # updating the count if leap year is found\n",
    "    \n",
    "    return leap_count\n",
    "\n",
    "print(\"Leap years between 2000-2025:\", count_leap_years(2000, 2025))  \n"
   ]
  },
  {
   "cell_type": "markdown",
   "id": "8c9bcc27-24d9-41c2-a38a-057511498f73",
   "metadata": {},
   "source": [
    "## 6. Given two dates, determine whether they fall within the same calendar week.\n",
    "\n",
    "- Assume weeks start on Monday and end on Sunday.\n",
    "\n",
    "- Both dates are in the format (day, month, year).\n",
    "\n",
    "- You need to return True if both dates lie in the same week, otherwise False.\n",
    "\n"
   ]
  },
  {
   "cell_type": "code",
   "execution_count": 6,
   "id": "e67739f7-51d5-4d0e-8aa4-bb27b881dee3",
   "metadata": {},
   "outputs": [
    {
     "name": "stdout",
     "output_type": "stream",
     "text": [
      "Same week: True\n",
      "Same week: False\n"
     ]
    }
   ],
   "source": [
    "def is_same_week(date1, date2):\n",
    "    \"\"\"\n",
    "    Checking if two dates (day, month, year) are in same week.\n",
    "    It returns True if they are, else returns False.\n",
    "    \"\"\"\n",
    "    day1, month1, year1 = date1\n",
    "    day2, month2, year2 = date2\n",
    "    \n",
    "    # Converting both dates to total days \n",
    "    total_days1 = year1 * 365 + month1 * 30 + day1  \n",
    "    total_days2 = year2 * 365 + month2 * 30 + day2\n",
    "    \n",
    "    # Finding how many weeks apart they are (using floor division)\n",
    "    weeks_apart = abs(total_days1 - total_days2) // 7\n",
    "    \n",
    "    # If they're 0 weeks apart, they're in same week\n",
    "    return weeks_apart == 0\n",
    "\n",
    "date_a = (15, 7, 2025)  \n",
    "date_b = (16, 7, 2025)  \n",
    "date_c = (22, 7, 2025)  \n",
    "\n",
    "print(\"Same week:\", is_same_week(date_a, date_b))  \n",
    "print(\"Same week:\", is_same_week(date_a, date_c))  "
   ]
  },
  {
   "cell_type": "markdown",
   "id": "f8d45002-918d-48de-8bf2-bb9d9668bd7c",
   "metadata": {},
   "source": [
    "## 7. Write a program that takes a month and a year as input and prints the calendar for that month in a grid format.\n",
    "\n",
    "- The calendar should display the days of the week starting from Monday to Sunday.\n",
    "\n",
    "- Use a day-of-week calculation (e.g., Zeller’s Congruence) to find out the weekday of the 1st day of the month.\n",
    "\n",
    "- The output should align the dates under the correct weekday headers.\n",
    "\n"
   ]
  },
  {
   "cell_type": "code",
   "execution_count": 7,
   "id": "ce6ff5c6-bc35-4175-a17b-d169541e0abf",
   "metadata": {},
   "outputs": [
    {
     "name": "stdout",
     "output_type": "stream",
     "text": [
      "         \n",
      "July 2023         \n",
      "Su Mo Tu We Th Fr Sa\n",
      "---------------------\n",
      "                1  2\n",
      " 3  4  5  6  7  8  9\n",
      "10 11 12 13 14 15 16\n",
      "17 18 19 20 21 22 23\n",
      "24 25 26 27 28 29 30\n",
      "31                  \n"
     ]
    }
   ],
   "source": [
    "def print_calendar(month, year):\n",
    "    \n",
    "    # Month names \n",
    "    month_names = [\"\", \"January\", \"February\", \"March\", \"April\", \"May\", \"June\", \n",
    "                   \"July\", \"August\", \"September\", \"October\", \"November\", \"December\"]\n",
    "    \n",
    "    # Days in each month \n",
    "    month_days = [0, 31, 28, 31, 30, 31, 30, 31, 31, 30, 31, 30, 31]\n",
    "    \n",
    "    # Adjusting February for leap years\n",
    "    if (year % 400 == 0) or (year % 100 != 0 and year % 4 == 0):\n",
    "        month_days[2] = 29\n",
    "    \n",
    "    # Getting day of the week for first day of the month (using zeller's congruence)\n",
    "    if month < 3:\n",
    "        month += 12\n",
    "        year -= 1\n",
    "    k = year % 100\n",
    "    j = year // 100\n",
    "    day_of_week = (1 + 13*(month + 1)//5 + k + k//4 + j//4 + 5*j) % 7\n",
    "    \n",
    "    # Converting to 0=Sun, 1=Mon,...\n",
    "    day_of_week = (day_of_week + 5) % 7\n",
    "    \n",
    "    # Displaying calendar header\n",
    "    print(f\"\\n{month_names[month]} {year}\".center(28))\n",
    "    print(\"Su Mo Tu We Th Fr Sa\")\n",
    "    print(\"-\" * 21)\n",
    "    \n",
    "    # displaying calendar body\n",
    "    current_day = 1\n",
    "    for i in range(6):  # Maximum 6 weeks needed\n",
    "        week = []\n",
    "        for j in range(7):  # 7 days in week\n",
    "            if (i == 0 and j < day_of_week) or (current_day > month_days[month]):\n",
    "                week.append(\"  \")\n",
    "            else:\n",
    "                week.append(f\"{current_day:2d}\")\n",
    "                current_day += 1\n",
    "        print(\" \".join(week))\n",
    "        if current_day > month_days[month]:\n",
    "            break\n",
    "\n",
    "print_calendar(7, 2023)  \n"
   ]
  },
  {
   "cell_type": "markdown",
   "id": "cc8d97ff-d29d-40f6-aaf6-00037162ee09",
   "metadata": {},
   "source": [
    "## 8. Given a non-negative integer representing a number of seconds, convert it into a string representing the time in hh:mm:ss format.\n",
    "\n",
    "- Hours, minutes, and seconds should all be zero-padded to two digits."
   ]
  },
  {
   "cell_type": "code",
   "execution_count": 8,
   "id": "5a5548a3-ba7e-4d72-8d40-f576f7e997cd",
   "metadata": {},
   "outputs": [
    {
     "name": "stdout",
     "output_type": "stream",
     "text": [
      "12:34:56\n"
     ]
    }
   ],
   "source": [
    "def convert_seconds(seconds):\n",
    "    # Calculating hours, minutes, & remaining seconds\n",
    "    hours = seconds // 3600\n",
    "    remaining_seconds = seconds % 3600\n",
    "    minutes = remaining_seconds // 60\n",
    "    seconds = remaining_seconds % 60\n",
    "    \n",
    "    # Formatting each part with leading zeros\n",
    "    return f\"{hours:02d}:{minutes:02d}:{seconds:02d}\"\n",
    "\n",
    "\n",
    "print(convert_seconds(45296))  \n"
   ]
  },
  {
   "cell_type": "markdown",
   "id": "8dafdbb8-a945-418a-8422-839d70049d72",
   "metadata": {},
   "source": [
    "## 9. Write two functions:\n",
    "\n",
    "- Convert a time string from 12-hour format (with AM/PM) to 24-hour format.\n",
    "\n",
    "- Convert a time string from 24-hour format to 12-hour format (with AM/PM)."
   ]
  },
  {
   "cell_type": "code",
   "execution_count": 9,
   "id": "1bfe5db0-e791-4b28-b705-9e4c28c14974",
   "metadata": {},
   "outputs": [
    {
     "name": "stdout",
     "output_type": "stream",
     "text": [
      "00:00\n"
     ]
    }
   ],
   "source": [
    "def convert_12_to_24(time_str):\n",
    "    time, period = time_str.split()  # Splitting into time and AM/PM\n",
    "    hours, minutes = time.split(':')\n",
    "    \n",
    "    hours = int(hours)\n",
    "    if period == 'PM' and hours != 12:\n",
    "        hours += 12\n",
    "    elif period == 'AM' and hours == 12:\n",
    "        hours = 0\n",
    "    \n",
    "    return f\"{hours:02d}:{minutes}\"\n",
    "\n",
    "\n",
    "print(convert_12_to_24(\"12:00 AM\"))  \n"
   ]
  },
  {
   "cell_type": "code",
   "execution_count": 11,
   "id": "e3f24b9a-c52c-469f-a9de-c1849ad08a12",
   "metadata": {},
   "outputs": [
    {
     "name": "stdout",
     "output_type": "stream",
     "text": [
      "12:00 AM\n"
     ]
    }
   ],
   "source": [
    "def convert_24_to_12(time_str):\n",
    "    hours, minutes = time_str.split(':')\n",
    "    hours = int(hours)\n",
    "    \n",
    "    if hours == 0:\n",
    "        period = 'AM'\n",
    "        hours = 12\n",
    "    elif 1 <= hours < 12:\n",
    "        period = 'AM'\n",
    "    elif hours == 12:\n",
    "        period = 'PM'\n",
    "    else:\n",
    "        period = 'PM'\n",
    "        hours -= 12\n",
    "    \n",
    "    return f\"{hours:02d}:{minutes} {period}\"\n",
    "\n",
    "print(convert_24_to_12(\"00:00\"))  \n"
   ]
  },
  {
   "cell_type": "markdown",
   "id": "1759caf5-74f8-492d-86c6-90948e590053",
   "metadata": {},
   "source": [
    "## 10. Given two dates, count how many Saturdays and Sundays occur between these two dates, inclusive of the given dates.\n",
    "\n"
   ]
  },
  {
   "cell_type": "code",
   "execution_count": 12,
   "id": "5b39c762-12c0-45b3-8af8-2327d8b5aae5",
   "metadata": {},
   "outputs": [
    {
     "name": "stdout",
     "output_type": "stream",
     "text": [
      "8\n"
     ]
    }
   ],
   "source": [
    "def count_weekends(start_date, end_date):\n",
    "  \n",
    "    day1, month1, year1 = start_date\n",
    "    day2, month2, year2 = end_date\n",
    "\n",
    "    # Converting dates to total days \n",
    "    def date_to_days(d, m, y):\n",
    "        return y * 365 + m * 30 + d  \n",
    "\n",
    "    total_days1 = date_to_days(day1, month1, year1)\n",
    "    total_days2 = date_to_days(day2, month2, year2)\n",
    "\n",
    "    # Swapping if start date is after end date\n",
    "    if total_days1 > total_days2:\n",
    "        day1, month1, year1, day2, month2, year2 = day2, month2, year2, day1, month1, year1\n",
    "\n",
    "    # Counting weekends\n",
    "    weekend_count = 0\n",
    "    for days in range(total_days1, total_days2 + 1):\n",
    "        # day of the week - 0=Sun, 1=Mon..\n",
    "        day_of_week = days % 7\n",
    "        if day_of_week == 0 or day_of_week == 6:  # Sun or Sat\n",
    "            weekend_count += 1\n",
    "\n",
    "    return weekend_count\n",
    "\n",
    "print(count_weekends((1, 7, 2023), (31, 7, 2023))) \n"
   ]
  },
  {
   "cell_type": "code",
   "execution_count": null,
   "id": "9362f308-1d81-498c-811d-fa703b0e85c5",
   "metadata": {},
   "outputs": [],
   "source": []
  }
 ],
 "metadata": {
  "kernelspec": {
   "display_name": "Python [conda env:base] *",
   "language": "python",
   "name": "conda-base-py"
  },
  "language_info": {
   "codemirror_mode": {
    "name": "ipython",
    "version": 3
   },
   "file_extension": ".py",
   "mimetype": "text/x-python",
   "name": "python",
   "nbconvert_exporter": "python",
   "pygments_lexer": "ipython3",
   "version": "3.12.7"
  }
 },
 "nbformat": 4,
 "nbformat_minor": 5
}
